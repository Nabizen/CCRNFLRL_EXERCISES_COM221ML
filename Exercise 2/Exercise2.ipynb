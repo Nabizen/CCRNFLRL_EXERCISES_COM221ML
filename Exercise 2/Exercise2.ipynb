{
  "cells": [
    {
      "cell_type": "markdown",
      "metadata": {
        "colab_type": "text",
        "id": "view-in-github"
      },
      "source": [
        "<a href=\"https://colab.research.google.com/github/robitussin/CCRNFLRL_EXERCISES/blob/main/Exercise2.ipynb\" target=\"_parent\"><img src=\"https://colab.research.google.com/assets/colab-badge.svg\" alt=\"Open In Colab\"/></a>"
      ]
    },
    {
      "cell_type": "markdown",
      "metadata": {
        "id": "gh4_1T3XTRg6"
      },
      "source": [
        "# Exercise 2"
      ]
    },
    {
      "cell_type": "code",
      "execution_count": 271,
      "metadata": {
        "id": "-6zwzOH0TMq0"
      },
      "outputs": [],
      "source": [
        "from math import sqrt, log\n",
        "import pandas as pd"
      ]
    },
    {
      "cell_type": "markdown",
      "metadata": {
        "id": "kZCcIK8dTkot"
      },
      "source": [
        "## Step 1: Enter your data\n",
        "\n",
        "Add a new row after each pull: Pull number, Machine played (\"A\", \"B\", \"C\"), and Reward earned."
      ]
    },
    {
      "cell_type": "code",
      "execution_count": 272,
      "metadata": {
        "id": "_XJg9sNjTP9s"
      },
      "outputs": [],
      "source": [
        "data = pd.DataFrame({\n",
        "    \"Pull\": [1, 2, 3, 4, 5, 6, 7, 8, 9, 10,\n",
        "             11, 12, 13, 14, 15, 16, 17, 18, 19, 20,\n",
        "             21, 22, 23, 24, 25, 26, 27, 28, 29, 30,\n",
        "             31, 32, 33, 34, 35, 36, 37, 38, 39, 40,\n",
        "             41, 42, 43, 44, 45, 46, 47, 48, 49, 50],          # Pull number\n",
        "    \"Machine\": [\"A\", \"B\", \"C\", \"C\", \"C\", \"C\", \"A\", \"B\", \"B\", \"B\",\n",
        "                \"C\", \"B\", \"C\", \"A\", \"A\", \"A\", \"A\", \"A\", \"A\", \"A\",\n",
        "                \"A\", \"A\", \"A\", \"A\", \"A\", \"A\", \"A\", \"A\", \"A\", \"A\",\n",
        "                \"A\", \"A\", \"A\", \"A\", \"A\", \"A\", \"A\", \"A\", \"A\", \"A\",\n",
        "                \"A\", \"A\", \"A\", \"A\", \"A\", \"A\", \"A\", \"A\", \"A\", \"A\"], # Which machine was played\n",
        "    \"Reward\": [0, 0, 3, 0, 0, 0, 0, 2, 0, 0,\n",
        "               0, 0, 0, 2, 38, 64, 49, 27, 39, 24,\n",
        "               11, 7, 2, 0, 139, 47, 10, 48, 15, 4,\n",
        "               107, 7, 60, 15, 17, 26, 36, 35, 22, 40,\n",
        "               18, 4, 0, 0, 0, 0, 5, 5, 0, 2]         # Reward received from that machine\n",
        "})"
      ]
    },
    {
      "cell_type": "markdown",
      "metadata": {
        "id": "9pAruytjTt-b"
      },
      "source": [
        "# Step 2: Calculate UCB"
      ]
    },
    {
      "cell_type": "code",
      "execution_count": 273,
      "metadata": {
        "id": "7iyebQ41S3pA"
      },
      "outputs": [],
      "source": [
        "def calculate_ucb(df):\n",
        "    results = []\n",
        "    total_pulls = len(df)\n",
        "    machines = sorted(df[\"Machine\"].unique())\n",
        "\n",
        "    for machine in machines:\n",
        "        machine_data = df[df[\"Machine\"] == machine]\n",
        "        n_j = len(machine_data)\n",
        "        avg_reward = machine_data[\"Reward\"].mean()\n",
        "        exploration_bonus = sqrt((2 * log(total_pulls)) / n_j) if n_j > 0 else float(\"inf\")\n",
        "        ucb_score = avg_reward + exploration_bonus\n",
        "        results.append({\n",
        "            \"Machine\": machine,\n",
        "            \"Pulls\": n_j,\n",
        "            \"Avg Reward\": round(avg_reward, 2),\n",
        "            \"Exploration Bonus\": round(exploration_bonus, 4),\n",
        "            \"UCB Score\": round(ucb_score, 4)\n",
        "        })\n",
        "    return pd.DataFrame(results).sort_values(by=\"UCB Score\", ascending=False)"
      ]
    },
    {
      "cell_type": "markdown",
      "metadata": {
        "id": "GmVaGjpdT4eA"
      },
      "source": [
        "\n",
        "# Step 3: Calculate and display\n"
      ]
    },
    {
      "cell_type": "code",
      "execution_count": 274,
      "metadata": {
        "colab": {
          "base_uri": "https://localhost:8080/"
        },
        "id": "ZXBIvOEVTVND",
        "outputId": "118db1fa-bdb4-4e2f-8af2-a1f3a0f859b4"
      },
      "outputs": [
        {
          "name": "stdout",
          "output_type": "stream",
          "text": [
            "📊 UCB Results Table\n",
            "  Machine  Pulls  Avg Reward  Exploration Bonus  UCB Score\n",
            "0       A     39       23.72             0.4479    24.1659\n",
            "1       B      5        0.40             1.2509     1.6509\n",
            "2       C      6        0.50             1.1419     1.6419\n"
          ]
        }
      ],
      "source": [
        "ucb_table = calculate_ucb(data)\n",
        "print(\"📊 UCB Results Table\")\n",
        "print(ucb_table)"
      ]
    },
    {
      "cell_type": "markdown",
      "metadata": {
        "id": "YURFdhQmUCjl"
      },
      "source": [
        "# Step 4: Next machine suggestion"
      ]
    },
    {
      "cell_type": "code",
      "execution_count": 275,
      "metadata": {
        "colab": {
          "base_uri": "https://localhost:8080/"
        },
        "id": "XufYOkGET_l-",
        "outputId": "a0df6e9a-1ee0-4ad3-969a-0c63299a24ee"
      },
      "outputs": [
        {
          "name": "stdout",
          "output_type": "stream",
          "text": [
            "\n",
            "🎯 Recommended next machine to play: A\n"
          ]
        }
      ],
      "source": [
        "best_machine = ucb_table.iloc[0][\"Machine\"]\n",
        "print(f\"\\n🎯 Recommended next machine to play: {best_machine}\")"
      ]
    },
    {
      "cell_type": "markdown",
      "metadata": {},
      "source": [
        "# Results"
      ]
    },
    {
      "cell_type": "markdown",
      "metadata": {},
      "source": [
        "After 50 timesteps, it's concluded that Machine A (Mystical Wizard) is the most profitable machine with an average of 23.73. Compared to the others, Machines B (Treasures of Egypt) had an 0.40 average while Machine C (Flaming Crates) had 0.50 average."
      ]
    }
  ],
  "metadata": {
    "colab": {
      "authorship_tag": "ABX9TyO35Bw4egBGB5xjl+QWOMqs",
      "include_colab_link": true,
      "provenance": []
    },
    "kernelspec": {
      "display_name": "COM222",
      "language": "python",
      "name": "python3"
    },
    "language_info": {
      "codemirror_mode": {
        "name": "ipython",
        "version": 3
      },
      "file_extension": ".py",
      "mimetype": "text/x-python",
      "name": "python",
      "nbconvert_exporter": "python",
      "pygments_lexer": "ipython3",
      "version": "3.11.9"
    }
  },
  "nbformat": 4,
  "nbformat_minor": 0
}
